{
 "cells": [
  {
   "cell_type": "markdown",
   "id": "fd7c498c-7db3-4759-bfca-8e60be947f29",
   "metadata": {},
   "source": [
    "# Data Science Tools and Ecosystem"
   ]
  },
  {
   "cell_type": "markdown",
   "id": "f65ea95d-4b82-43a0-838e-53919b111119",
   "metadata": {},
   "source": [
    "In this notebook, Data Science Tools and Ecosystem are summarized."
   ]
  },
  {
   "cell_type": "markdown",
   "id": "3a139231-bc74-4731-97e5-bd0cd20a8439",
   "metadata": {},
   "source": [
    "**Objectives:**\n",
    " - List popular languages for Data Science\n",
    " - List popular used libraries for Data Science\n",
    " - Learn how to use GitHub"
   ]
  },
  {
   "cell_type": "markdown",
   "id": "55acbde8-3458-4b1e-b864-4eed38d01b3b",
   "metadata": {},
   "source": [
    "Some of the popular languages that Data Scientists use are:\n",
    "1. R\n",
    "2. Java\n",
    "3. Python"
   ]
  },
  {
   "cell_type": "markdown",
   "id": "6eefd2a8-b4f3-42d8-b949-fe42d2a2bb39",
   "metadata": {},
   "source": [
    "Some of the commonly used libraries used by Data Scientists include:\n",
    "1. Matplotlib\n",
    "2. pandas\n",
    "3. NumPy"
   ]
  },
  {
   "cell_type": "markdown",
   "id": "3caa0562-02a8-4bf9-ac6c-c09fec8f4a3d",
   "metadata": {},
   "source": [
    "|Data Science Tools |\n",
    "|----------|\n",
    "|Jupyter  |\n",
    "|RStudio  |\n",
    "|Spyder   |  "
   ]
  },
  {
   "cell_type": "markdown",
   "id": "949d604a-d7f9-4b6d-aa92-d6d38c2dbe28",
   "metadata": {},
   "source": [
    "### Below are a few examples of evaluating arithmetic expressions in Python"
   ]
  },
  {
   "cell_type": "code",
   "execution_count": 1,
   "id": "df97266c-cad9-4b55-8478-8aac80f4dd75",
   "metadata": {},
   "outputs": [
    {
     "data": {
      "text/plain": [
       "17"
      ]
     },
     "execution_count": 1,
     "metadata": {},
     "output_type": "execute_result"
    }
   ],
   "source": [
    "#This a simple arithmetic expression to mutiply then add integers\n",
    "(3*4)+5"
   ]
  },
  {
   "cell_type": "code",
   "execution_count": 2,
   "id": "5594af8a-fa02-49ab-88ea-4146dfc03ccb",
   "metadata": {},
   "outputs": [
    {
     "data": {
      "text/plain": [
       "3.3333333333333335"
      ]
     },
     "execution_count": 2,
     "metadata": {},
     "output_type": "execute_result"
    }
   ],
   "source": [
    "#This will convert 200 minutes to hours by diving by 60\n",
    "200/60"
   ]
  },
  {
   "cell_type": "markdown",
   "id": "22c49e7d-1d16-4b64-a2c9-06bd7c8bfdd2",
   "metadata": {},
   "source": [
    "## Author\n",
    "Yu Hong Wong"
   ]
  },
  {
   "cell_type": "code",
   "execution_count": null,
   "id": "b778497b-a102-400e-a798-5680c4814efb",
   "metadata": {},
   "outputs": [],
   "source": []
  }
 ],
 "metadata": {
  "kernelspec": {
   "display_name": "Python 3 (ipykernel)",
   "language": "python",
   "name": "python3"
  },
  "language_info": {
   "codemirror_mode": {
    "name": "ipython",
    "version": 3
   },
   "file_extension": ".py",
   "mimetype": "text/x-python",
   "name": "python",
   "nbconvert_exporter": "python",
   "pygments_lexer": "ipython3",
   "version": "3.11.9"
  }
 },
 "nbformat": 4,
 "nbformat_minor": 5
}
